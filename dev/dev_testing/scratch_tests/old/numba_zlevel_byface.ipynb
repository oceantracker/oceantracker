version https://git-lfs.github.com/spec/v1
oid sha256:11a35aef87c090e63fd485e1dbdf5d229756c52efbb61f46d8a09acbfbd12adc
size 92947
