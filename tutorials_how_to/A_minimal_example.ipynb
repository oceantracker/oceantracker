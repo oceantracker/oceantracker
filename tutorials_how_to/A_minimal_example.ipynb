version https://git-lfs.github.com/spec/v1
oid sha256:8895c3348d6a5a64f7679843fb16706bd157b0cb5d77da9381fa066cdfa2be37
size 3344597
