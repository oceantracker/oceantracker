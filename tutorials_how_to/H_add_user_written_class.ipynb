version https://git-lfs.github.com/spec/v1
oid sha256:effacfae506b272bbd3ce765ca4dcc592671986f17772580422de066ffa2fff3
size 398627
